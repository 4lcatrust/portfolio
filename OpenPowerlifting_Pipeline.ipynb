{
  "nbformat": 4,
  "nbformat_minor": 0,
  "metadata": {
    "colab": {
      "provenance": [],
      "gpuType": "T4",
      "authorship_tag": "ABX9TyPFgbrGiPNa/eKxX064mfEe",
      "include_colab_link": true
    },
    "kernelspec": {
      "name": "python3",
      "display_name": "Python 3"
    },
    "language_info": {
      "name": "python"
    },
    "accelerator": "GPU"
  },
  "cells": [
    {
      "cell_type": "markdown",
      "metadata": {
        "id": "view-in-github",
        "colab_type": "text"
      },
      "source": [
        "<a href=\"https://colab.research.google.com/github/4lcatrust/portfolio/blob/main/OpenPowerlifting_Pipeline.ipynb\" target=\"_parent\"><img src=\"https://colab.research.google.com/assets/colab-badge.svg\" alt=\"Open In Colab\"/></a>"
      ]
    },
    {
      "cell_type": "code",
      "source": [
        "import json\n",
        "import polars as pl\n",
        "import os\n",
        "from google.oauth2 import service_account\n",
        "from googleapiclient.discovery import build\n",
        "import kagglehub"
      ],
      "metadata": {
        "id": "TjJQV3pjMNz-"
      },
      "execution_count": 1,
      "outputs": []
    },
    {
      "cell_type": "code",
      "source": [
        "# Download Kaggle OpenPowerlifting dataset and read with Polars\n",
        "path = kagglehub.dataset_download(\"open-powerlifting/powerlifting-database\")\n",
        "filename = 'openpowerlifting-2024-01-06-4c732975.csv'\n",
        "filepath = f'{path}/{filename}'"
      ],
      "metadata": {
        "id": "dgrKkOecGvjM",
        "colab": {
          "base_uri": "https://localhost:8080/"
        },
        "outputId": "755b5713-d24f-4998-a887-5c3602a132cc"
      },
      "execution_count": 2,
      "outputs": [
        {
          "output_type": "stream",
          "name": "stdout",
          "text": [
            "Downloading from https://www.kaggle.com/api/v1/datasets/download/open-powerlifting/powerlifting-database?dataset_version_number=2...\n"
          ]
        },
        {
          "output_type": "stream",
          "name": "stderr",
          "text": [
            "100%|██████████| 176M/176M [00:03<00:00, 49.6MB/s]"
          ]
        },
        {
          "output_type": "stream",
          "name": "stdout",
          "text": [
            "Extracting files...\n"
          ]
        },
        {
          "output_type": "stream",
          "name": "stderr",
          "text": [
            "\n"
          ]
        }
      ]
    },
    {
      "cell_type": "code",
      "source": [
        "# Read dataset\n",
        "df = pl.read_csv(path+'/openpowerlifting-2024-01-06-4c732975.csv', infer_schema_length = 1000)\n",
        "\n",
        "# Check shape of dataset\n",
        "print(f'Dataset Row Count: {df.shape[0]:,}')\n",
        "print(f'Dataset Column Count: {df.shape[1]:,}')\n",
        "\n",
        "# Preview dataset\n",
        "display(df.head())\n",
        "\n",
        "# Checking on dataset's schema to enhance data type\n",
        "display(dict(df.schema))\n",
        "\n",
        "# Checking on dataset's null values on main column, in this case, name of the athletes\n",
        "print('Is there any NULL values in `Name` column?: ' + str(df['Name'].is_empty()))\n",
        "\n",
        "# Casting `Age` from float into int data type\n",
        "df = df.with_columns(pl.col('Age').cast(pl.Int64, strict=False))\n",
        "\n",
        "# Checking if the transformed schema are succesfully transformed or not\n",
        "display(dict(df[['Age']].schema))"
      ],
      "metadata": {
        "colab": {
          "base_uri": "https://localhost:8080/",
          "height": 1000
        },
        "id": "uojM7JbpMQHO",
        "outputId": "42d20437-2440-4e89-848c-0d8fd7a7d503"
      },
      "execution_count": 3,
      "outputs": [
        {
          "output_type": "stream",
          "name": "stdout",
          "text": [
            "Dataset Row Count: 3,043,013\n",
            "Dataset Column Count: 41\n"
          ]
        },
        {
          "output_type": "display_data",
          "data": {
            "text/plain": [
              "shape: (5, 41)\n",
              "┌──────────────────┬─────┬───────┬───────────┬───┬─────────────┬───────────┬──────────┬────────────┐\n",
              "│ Name             ┆ Sex ┆ Event ┆ Equipment ┆ … ┆ MeetCountry ┆ MeetState ┆ MeetTown ┆ MeetName   │\n",
              "│ ---              ┆ --- ┆ ---   ┆ ---       ┆   ┆ ---         ┆ ---       ┆ ---      ┆ ---        │\n",
              "│ str              ┆ str ┆ str   ┆ str       ┆   ┆ str         ┆ str       ┆ str      ┆ str        │\n",
              "╞══════════════════╪═════╪═══════╪═══════════╪═══╪═════════════╪═══════════╪══════════╪════════════╡\n",
              "│ Alona Vladi      ┆ F   ┆ SBD   ┆ Raw       ┆ … ┆ Russia      ┆ null      ┆ Bryansk  ┆ Open       │\n",
              "│                  ┆     ┆       ┆           ┆   ┆             ┆           ┆          ┆ Tournament │\n",
              "│ Galina           ┆ F   ┆ SBD   ┆ Raw       ┆ … ┆ Russia      ┆ null      ┆ Bryansk  ┆ Open       │\n",
              "│ Solovyanova      ┆     ┆       ┆           ┆   ┆             ┆           ┆          ┆ Tournament │\n",
              "│ Daniil Voronin   ┆ M   ┆ SBD   ┆ Raw       ┆ … ┆ Russia      ┆ null      ┆ Bryansk  ┆ Open       │\n",
              "│                  ┆     ┆       ┆           ┆   ┆             ┆           ┆          ┆ Tournament │\n",
              "│ Aleksey Krasov   ┆ M   ┆ SBD   ┆ Raw       ┆ … ┆ Russia      ┆ null      ┆ Bryansk  ┆ Open       │\n",
              "│                  ┆     ┆       ┆           ┆   ┆             ┆           ┆          ┆ Tournament │\n",
              "│ Margarita        ┆ M   ┆ SBD   ┆ Raw       ┆ … ┆ Russia      ┆ null      ┆ Bryansk  ┆ Open       │\n",
              "│ Pleschenkova     ┆     ┆       ┆           ┆   ┆             ┆           ┆          ┆ Tournament │\n",
              "└──────────────────┴─────┴───────┴───────────┴───┴─────────────┴───────────┴──────────┴────────────┘"
            ],
            "text/html": [
              "<div><style>\n",
              ".dataframe > thead > tr,\n",
              ".dataframe > tbody > tr {\n",
              "  text-align: right;\n",
              "  white-space: pre-wrap;\n",
              "}\n",
              "</style>\n",
              "<small>shape: (5, 41)</small><table border=\"1\" class=\"dataframe\"><thead><tr><th>Name</th><th>Sex</th><th>Event</th><th>Equipment</th><th>Age</th><th>AgeClass</th><th>BirthYearClass</th><th>Division</th><th>BodyweightKg</th><th>WeightClassKg</th><th>Squat1Kg</th><th>Squat2Kg</th><th>Squat3Kg</th><th>Squat4Kg</th><th>Best3SquatKg</th><th>Bench1Kg</th><th>Bench2Kg</th><th>Bench3Kg</th><th>Bench4Kg</th><th>Best3BenchKg</th><th>Deadlift1Kg</th><th>Deadlift2Kg</th><th>Deadlift3Kg</th><th>Deadlift4Kg</th><th>Best3DeadliftKg</th><th>TotalKg</th><th>Place</th><th>Dots</th><th>Wilks</th><th>Glossbrenner</th><th>Goodlift</th><th>Tested</th><th>Country</th><th>State</th><th>Federation</th><th>ParentFederation</th><th>Date</th><th>MeetCountry</th><th>MeetState</th><th>MeetTown</th><th>MeetName</th></tr><tr><td>str</td><td>str</td><td>str</td><td>str</td><td>f64</td><td>str</td><td>str</td><td>str</td><td>f64</td><td>str</td><td>f64</td><td>f64</td><td>f64</td><td>f64</td><td>f64</td><td>f64</td><td>f64</td><td>f64</td><td>f64</td><td>f64</td><td>f64</td><td>f64</td><td>f64</td><td>f64</td><td>f64</td><td>f64</td><td>str</td><td>f64</td><td>f64</td><td>f64</td><td>f64</td><td>str</td><td>str</td><td>str</td><td>str</td><td>str</td><td>str</td><td>str</td><td>str</td><td>str</td><td>str</td></tr></thead><tbody><tr><td>&quot;Alona Vladi&quot;</td><td>&quot;F&quot;</td><td>&quot;SBD&quot;</td><td>&quot;Raw&quot;</td><td>33.0</td><td>&quot;24-34&quot;</td><td>&quot;24-39&quot;</td><td>&quot;O&quot;</td><td>58.3</td><td>&quot;60&quot;</td><td>75.0</td><td>80.0</td><td>-90.0</td><td>null</td><td>80.0</td><td>50.0</td><td>55.0</td><td>60.0</td><td>null</td><td>60.0</td><td>95.0</td><td>105.0</td><td>107.5</td><td>null</td><td>107.5</td><td>247.5</td><td>&quot;1&quot;</td><td>279.44</td><td>282.18</td><td>249.42</td><td>57.1</td><td>&quot;Yes&quot;</td><td>&quot;Russia&quot;</td><td>null</td><td>&quot;GFP&quot;</td><td>null</td><td>&quot;2019-05-11&quot;</td><td>&quot;Russia&quot;</td><td>null</td><td>&quot;Bryansk&quot;</td><td>&quot;Open Tournament&quot;</td></tr><tr><td>&quot;Galina Solovyanova&quot;</td><td>&quot;F&quot;</td><td>&quot;SBD&quot;</td><td>&quot;Raw&quot;</td><td>43.0</td><td>&quot;40-44&quot;</td><td>&quot;40-49&quot;</td><td>&quot;M1&quot;</td><td>73.1</td><td>&quot;75&quot;</td><td>95.0</td><td>100.0</td><td>105.0</td><td>null</td><td>105.0</td><td>62.5</td><td>67.5</td><td>-72.5</td><td>null</td><td>67.5</td><td>100.0</td><td>110.0</td><td>-120.0</td><td>null</td><td>110.0</td><td>282.5</td><td>&quot;1&quot;</td><td>278.95</td><td>272.99</td><td>240.35</td><td>56.76</td><td>&quot;Yes&quot;</td><td>&quot;Russia&quot;</td><td>null</td><td>&quot;GFP&quot;</td><td>null</td><td>&quot;2019-05-11&quot;</td><td>&quot;Russia&quot;</td><td>null</td><td>&quot;Bryansk&quot;</td><td>&quot;Open Tournament&quot;</td></tr><tr><td>&quot;Daniil Voronin&quot;</td><td>&quot;M&quot;</td><td>&quot;SBD&quot;</td><td>&quot;Raw&quot;</td><td>15.5</td><td>&quot;16-17&quot;</td><td>&quot;14-18&quot;</td><td>&quot;T&quot;</td><td>67.4</td><td>&quot;75&quot;</td><td>85.0</td><td>90.0</td><td>100.0</td><td>null</td><td>100.0</td><td>55.0</td><td>62.5</td><td>-65.0</td><td>null</td><td>62.5</td><td>90.0</td><td>100.0</td><td>105.0</td><td>null</td><td>105.0</td><td>267.5</td><td>&quot;1&quot;</td><td>206.4</td><td>206.49</td><td>200.45</td><td>41.24</td><td>&quot;Yes&quot;</td><td>&quot;Russia&quot;</td><td>null</td><td>&quot;GFP&quot;</td><td>null</td><td>&quot;2019-05-11&quot;</td><td>&quot;Russia&quot;</td><td>null</td><td>&quot;Bryansk&quot;</td><td>&quot;Open Tournament&quot;</td></tr><tr><td>&quot;Aleksey Krasov&quot;</td><td>&quot;M&quot;</td><td>&quot;SBD&quot;</td><td>&quot;Raw&quot;</td><td>35.0</td><td>&quot;35-39&quot;</td><td>&quot;24-39&quot;</td><td>&quot;O&quot;</td><td>66.65</td><td>&quot;75&quot;</td><td>125.0</td><td>132.0</td><td>137.5</td><td>null</td><td>137.5</td><td>115.0</td><td>122.5</td><td>-127.5</td><td>null</td><td>122.5</td><td>150.0</td><td>165.0</td><td>170.0</td><td>null</td><td>170.0</td><td>430.0</td><td>&quot;1&quot;</td><td>334.49</td><td>334.94</td><td>325.32</td><td>66.68</td><td>&quot;Yes&quot;</td><td>&quot;Russia&quot;</td><td>null</td><td>&quot;GFP&quot;</td><td>null</td><td>&quot;2019-05-11&quot;</td><td>&quot;Russia&quot;</td><td>null</td><td>&quot;Bryansk&quot;</td><td>&quot;Open Tournament&quot;</td></tr><tr><td>&quot;Margarita Pleschenkova&quot;</td><td>&quot;M&quot;</td><td>&quot;SBD&quot;</td><td>&quot;Raw&quot;</td><td>26.5</td><td>&quot;24-34&quot;</td><td>&quot;24-39&quot;</td><td>&quot;O&quot;</td><td>72.45</td><td>&quot;75&quot;</td><td>80.0</td><td>85.0</td><td>90.0</td><td>null</td><td>90.0</td><td>40.0</td><td>50.0</td><td>-60.0</td><td>null</td><td>50.0</td><td>112.5</td><td>120.0</td><td>125.0</td><td>null</td><td>125.0</td><td>265.0</td><td>&quot;1&quot;</td><td>194.46</td><td>193.55</td><td>187.29</td><td>39.34</td><td>&quot;Yes&quot;</td><td>&quot;Russia&quot;</td><td>null</td><td>&quot;GFP&quot;</td><td>null</td><td>&quot;2019-05-11&quot;</td><td>&quot;Russia&quot;</td><td>null</td><td>&quot;Bryansk&quot;</td><td>&quot;Open Tournament&quot;</td></tr></tbody></table></div>"
            ]
          },
          "metadata": {}
        },
        {
          "output_type": "display_data",
          "data": {
            "text/plain": [
              "{'Name': String,\n",
              " 'Sex': String,\n",
              " 'Event': String,\n",
              " 'Equipment': String,\n",
              " 'Age': Float64,\n",
              " 'AgeClass': String,\n",
              " 'BirthYearClass': String,\n",
              " 'Division': String,\n",
              " 'BodyweightKg': Float64,\n",
              " 'WeightClassKg': String,\n",
              " 'Squat1Kg': Float64,\n",
              " 'Squat2Kg': Float64,\n",
              " 'Squat3Kg': Float64,\n",
              " 'Squat4Kg': Float64,\n",
              " 'Best3SquatKg': Float64,\n",
              " 'Bench1Kg': Float64,\n",
              " 'Bench2Kg': Float64,\n",
              " 'Bench3Kg': Float64,\n",
              " 'Bench4Kg': Float64,\n",
              " 'Best3BenchKg': Float64,\n",
              " 'Deadlift1Kg': Float64,\n",
              " 'Deadlift2Kg': Float64,\n",
              " 'Deadlift3Kg': Float64,\n",
              " 'Deadlift4Kg': Float64,\n",
              " 'Best3DeadliftKg': Float64,\n",
              " 'TotalKg': Float64,\n",
              " 'Place': String,\n",
              " 'Dots': Float64,\n",
              " 'Wilks': Float64,\n",
              " 'Glossbrenner': Float64,\n",
              " 'Goodlift': Float64,\n",
              " 'Tested': String,\n",
              " 'Country': String,\n",
              " 'State': String,\n",
              " 'Federation': String,\n",
              " 'ParentFederation': String,\n",
              " 'Date': String,\n",
              " 'MeetCountry': String,\n",
              " 'MeetState': String,\n",
              " 'MeetTown': String,\n",
              " 'MeetName': String}"
            ]
          },
          "metadata": {}
        },
        {
          "output_type": "stream",
          "name": "stdout",
          "text": [
            "Is there any NULL values in `Name` column?: False\n"
          ]
        },
        {
          "output_type": "display_data",
          "data": {
            "text/plain": [
              "{'Age': Int64}"
            ]
          },
          "metadata": {}
        }
      ]
    },
    {
      "cell_type": "code",
      "source": [
        "# Create ingestion into spreadsheet\n",
        "from google.colab import userdata\n",
        "\n",
        "# Use Google service account credentials for with enabled Spreadsheet API\n",
        "SERVICE_ACCOUNT = json.loads(userdata.get('4LCA_SS_API_KEY'))\n",
        "SCOPES = ['https://www.googleapis.com/auth/spreadsheets']\n",
        "creds = service_account.Credentials.from_service_account_info(SERVICE_ACCOUNT, scopes=SCOPES)\n",
        "\n",
        "# Input ID and range of a targeted spreadsheet\n",
        "SPREADSHEET_ID = userdata.get('SPREADSHEET_ID')\n",
        "SPREADSHEET_RANGE = 'OpenPowerlifting'\n",
        "service = build('sheets', 'v4', credentials=creds)"
      ],
      "metadata": {
        "id": "cBKZjajXTgUK"
      },
      "execution_count": 4,
      "outputs": []
    },
    {
      "cell_type": "code",
      "source": [
        "# Insert spreadsheet count cells limitation\n",
        "spreadsheet_limit_cells = round(10000000 * 0.75)\n",
        "dataset_maximum_row = round(spreadsheet_limit_cells / df.shape[1])\n",
        "\n",
        "# Create batching process\n",
        "batch_size = round(dataset_maximum_row / 5)\n",
        "iter = 0\n",
        "while iter <= dataset_maximum_row:\n",
        "    print(f'Iteration {iter} starting...')\n",
        "    match iter:\n",
        "        case 0:\n",
        "            # For first batch, insert column name for header\n",
        "            data = df[iter : iter + batch_size].rows()\n",
        "            data.insert(0, df.columns)\n",
        "            body = {\n",
        "                'values': data\n",
        "            }\n",
        "            result = service.spreadsheets().values().update(\n",
        "                                                            spreadsheetId = SPREADSHEET_ID,\n",
        "                                                            range = SPREADSHEET_RANGE,\n",
        "                                                            valueInputOption = 'RAW',\n",
        "                                                            body = body\n",
        "                                                            ).execute()\n",
        "            print(f\"Header appended. {result['updatedCells']} cells updated.\")\n",
        "        case _:\n",
        "            # For the rest of the batch only append the spreadsheet\n",
        "            data = df[iter : iter + batch_size].rows()\n",
        "            body = {\n",
        "                'values': data\n",
        "            }\n",
        "\n",
        "            result = service.spreadsheets().values().append(\n",
        "                                                            spreadsheetId = SPREADSHEET_ID,\n",
        "                                                            range = SPREADSHEET_RANGE,\n",
        "                                                            valueInputOption = 'RAW',\n",
        "                                                            insertDataOption = 'INSERT_ROWS',\n",
        "                                                            body = body\n",
        "                                                            ).execute()\n",
        "            print(f\"Batch appended. {result['updates']['updatedCells']} cells updated.\")\n",
        "    iter += batch_size\n",
        "\n",
        "print(f'Data ingestion done\\n')\n",
        "\n",
        "# Check data ingestion result\n",
        "request = service.spreadsheets().get(spreadsheetId = SPREADSHEET_ID, fields = 'sheets(properties(gridProperties(rowCount,columnCount)))')\n",
        "response = request.execute()\n",
        "for sheet in response['sheets']:\n",
        "    row_count = sheet['properties']['gridProperties']['rowCount']\n",
        "    column_count = sheet['properties']['gridProperties']['columnCount']\n",
        "    print(f'Row Count: {row_count} ingested')\n",
        "    print(f'Column Count: {column_count} ingested')"
      ],
      "metadata": {
        "colab": {
          "base_uri": "https://localhost:8080/"
        },
        "id": "IfYKPKz0cmwU",
        "outputId": "e2392a49-4bf5-4ac9-fc6d-5feff25d4f61"
      },
      "execution_count": 6,
      "outputs": [
        {
          "output_type": "stream",
          "name": "stdout",
          "text": [
            "Iteration 0 starting...\n",
            "Header appended. 1009115 cells updated.\n",
            "Data ingestion done\n",
            "Iteration 36585 starting...\n",
            "Batch appended. 1051031 cells updated.\n",
            "Data ingestion done\n",
            "Iteration 73170 starting...\n",
            "Batch appended. 1079798 cells updated.\n",
            "Data ingestion done\n",
            "Iteration 109755 starting...\n",
            "Batch appended. 1111956 cells updated.\n",
            "Data ingestion done\n",
            "Iteration 146340 starting...\n",
            "Batch appended. 1069523 cells updated.\n",
            "Data ingestion done\n",
            "Iteration 182925 starting...\n",
            "Batch appended. 1065259 cells updated.\n",
            "Data ingestion done\n",
            "Row Count: 219511 ingested\n",
            "Column Count: 41 ingested\n"
          ]
        }
      ]
    }
  ]
}